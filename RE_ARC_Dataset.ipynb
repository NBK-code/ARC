{
  "nbformat": 4,
  "nbformat_minor": 0,
  "metadata": {
    "colab": {
      "provenance": [],
      "authorship_tag": "ABX9TyNwWmz85aFOSMbQI3T6fcUK",
      "include_colab_link": true
    },
    "kernelspec": {
      "name": "python3",
      "display_name": "Python 3"
    },
    "language_info": {
      "name": "python"
    }
  },
  "cells": [
    {
      "cell_type": "markdown",
      "metadata": {
        "id": "view-in-github",
        "colab_type": "text"
      },
      "source": [
        "<a href=\"https://colab.research.google.com/github/NBK-code/ARC/blob/main/RE_ARC_Dataset.ipynb\" target=\"_parent\"><img src=\"https://colab.research.google.com/assets/colab-badge.svg\" alt=\"Open In Colab\"/></a>"
      ]
    },
    {
      "cell_type": "code",
      "source": [
        "!git clone https://github.com/michaelhodel/re-arc.git"
      ],
      "metadata": {
        "colab": {
          "base_uri": "https://localhost:8080/"
        },
        "id": "dVbaniM-z2ng",
        "outputId": "dc8195e6-fe2a-4aff-d591-a4af8842cdc7"
      },
      "execution_count": 4,
      "outputs": [
        {
          "output_type": "stream",
          "name": "stdout",
          "text": [
            "Cloning into 're-arc'...\n",
            "remote: Enumerating objects: 60, done.\u001b[K\n",
            "remote: Counting objects: 100% (33/33), done.\u001b[K\n",
            "remote: Compressing objects: 100% (15/15), done.\u001b[K\n",
            "remote: Total 60 (delta 25), reused 19 (delta 18), pack-reused 27 (from 1)\u001b[K\n",
            "Receiving objects: 100% (60/60), 55.76 MiB | 35.62 MiB/s, done.\n",
            "Resolving deltas: 100% (27/27), done.\n"
          ]
        }
      ]
    },
    {
      "cell_type": "code",
      "source": [
        "import sys\n",
        "sys.path.append(\"/content/re-arc\")"
      ],
      "metadata": {
        "id": "njH3ju2v0Rew"
      },
      "execution_count": 5,
      "outputs": []
    },
    {
      "cell_type": "code",
      "source": [
        "from main import generate_dataset, demo_generator\n",
        "import numpy as np\n",
        "from tqdm import tqdm\n",
        "import matplotlib.pyplot as plt\n",
        "from matplotlib.colors import ListedColormap, BoundaryNorm"
      ],
      "metadata": {
        "id": "AGykes870Ujs"
      },
      "execution_count": 7,
      "outputs": []
    },
    {
      "cell_type": "code",
      "source": [
        "generate_dataset(\n",
        "    path = \"out_rearc\",\n",
        "    seed = 42,\n",
        "    n_examples = 4)"
      ],
      "metadata": {
        "colab": {
          "base_uri": "https://localhost:8080/"
        },
        "id": "Zo6xJUHu0XUU",
        "outputId": "0461c3b8-d048-4dbb-d84b-cfa5c25c9a8c"
      },
      "execution_count": 8,
      "outputs": [
        {
          "output_type": "stream",
          "name": "stderr",
          "text": [
            "task 400/400, example 4/4: 100%|██████████| 400/400 [00:20<00:00, 19.26it/s]\n"
          ]
        }
      ]
    },
    {
      "cell_type": "code",
      "source": [
        "ARC_PALETTE = np.array([\n",
        "    [  0,   0,   0],   # 0 black\n",
        "    [255,   0,   0],   # 1 red\n",
        "    [  0, 255,   0],   # 2 green\n",
        "    [255, 255,   0],   # 3 yellow\n",
        "    [  0,   0, 255],   # 4 blue\n",
        "    [255,   0, 255],   # 5 magenta\n",
        "    [  0, 255, 255],   # 6 cyan\n",
        "    [255, 255, 255],   # 7 white\n",
        "    [128, 128, 128],   # 8 gray\n",
        "    [128,   0,   0],   # 9 dark red\n",
        "], dtype=np.uint8)\n",
        "\n",
        "ARC_CMAP = ListedColormap(ARC_PALETTE / 255.0, name=\"arc\")\n",
        "ARC_NORM = BoundaryNorm(np.arange(-0.5, 10.5, 1), ARC_CMAP.N)"
      ],
      "metadata": {
        "id": "nXraHOba0neG"
      },
      "execution_count": 9,
      "outputs": []
    },
    {
      "cell_type": "code",
      "source": [
        "def plot_grid(grid, title=\"\", ax=None, cmap=ARC_CMAP, norm=ARC_NORM):\n",
        "    arr = np.array(grid, dtype=int)\n",
        "    if ax is None:\n",
        "        fig, ax = plt.subplots(figsize=(3.2, 3.2))\n",
        "    ax.imshow(arr, interpolation=\"nearest\", cmap=cmap, norm=norm)\n",
        "    ax.set_title(title)\n",
        "    ax.set_xticks([]); ax.set_yticks([])\n",
        "    # light cell borders\n",
        "    h, w = arr.shape\n",
        "    for x in range(w + 1):\n",
        "        ax.axvline(x - 0.5, linewidth=0.5, color=\"white\", alpha=0.6)\n",
        "    for y in range(h + 1):\n",
        "        ax.axhline(y - 0.5, linewidth=0.5, color=\"white\", alpha=0.6)"
      ],
      "metadata": {
        "id": "MTeBhDg30y8E"
      },
      "execution_count": 10,
      "outputs": []
    },
    {
      "cell_type": "code",
      "source": [
        "def _extract_solution(solutions, j):\n",
        "    \"\"\"\n",
        "    Accepts either:\n",
        "      - list aligned to tests: solutions[j]\n",
        "      - dict like {'test': [{'output': ...}, ...]}\n",
        "    Returns the j-th solution grid or None.\n",
        "    \"\"\"\n",
        "    if solutions is None:\n",
        "        return None\n",
        "    if isinstance(solutions, dict) and \"test\" in solutions:\n",
        "        return solutions[\"test\"][j][\"output\"]\n",
        "    if isinstance(solutions, list):\n",
        "        return solutions[j]\n",
        "    return None"
      ],
      "metadata": {
        "id": "5Ggk5o3a02Al"
      },
      "execution_count": 11,
      "outputs": []
    },
    {
      "cell_type": "code",
      "source": [
        "def visualize_task(task, solutions=None, *, show_train=True, show_test=True):\n",
        "    \"\"\"\n",
        "    Usage:\n",
        "      visualize_task(train_challenges[\"007bbfb7\"])                       # only train pairs\n",
        "      visualize_task(train_challenges[\"007bbfb7\"], train_solutions[\"007bbfb7\"])  # + solutions\n",
        "    \"\"\"\n",
        "    trains = task.get(\"train\", [])\n",
        "    tests  = task.get(\"test\", [])\n",
        "\n",
        "    if show_train:\n",
        "        for i, p in enumerate(trains, 1):\n",
        "            fig, axes = plt.subplots(1, 2, figsize=(7.5, 3.5))\n",
        "            plot_grid(p[\"input\"],  f\"Train {i} — INPUT\",  ax=axes[0])\n",
        "            plot_grid(p[\"output\"], f\"Train {i} — OUTPUT\", ax=axes[1])\n",
        "            plt.tight_layout(); plt.show()\n",
        "\n",
        "    if show_test and tests:\n",
        "        for j, t in enumerate(tests):\n",
        "            sol = _extract_solution(solutions, j) if solutions is not None else None\n",
        "            if sol is None:\n",
        "                fig, ax = plt.subplots(1, 1, figsize=(3.5, 3.5))\n",
        "                plot_grid(t[\"input\"], f\"Test {j+1} — INPUT\", ax=ax)\n",
        "                plt.tight_layout(); plt.show()\n",
        "            else:\n",
        "                fig, axes = plt.subplots(1, 2, figsize=(7.5, 3.5))\n",
        "                plot_grid(t[\"input\"], f\"Test {j+1} — INPUT\",    ax=axes[0])\n",
        "                plot_grid(sol,        f\"Test {j+1} — SOLUTION\", ax=axes[1])\n",
        "                plt.tight_layout()\n",
        "                plt.show()"
      ],
      "metadata": {
        "id": "BOGDcm2j04pU"
      },
      "execution_count": 12,
      "outputs": []
    },
    {
      "cell_type": "code",
      "source": [
        "import json, random\n",
        "\n",
        "def rearc_file_to_arc_task(path, n_train=2, n_test=1):\n",
        "    pairs = json.load(open(path))\n",
        "    random.shuffle(pairs)\n",
        "    train_pairs = pairs[:n_train]\n",
        "    test_pairs  = pairs[n_train:n_train+n_test]\n",
        "    task = {\n",
        "        \"train\": [{\"input\": p[\"input\"], \"output\": p[\"output\"]} for p in train_pairs],\n",
        "        \"test\":  [{\"input\": p[\"input\"]} for p in test_pairs],\n",
        "    }\n",
        "    solutions = {\"test\": [{\"output\": p[\"output\"]} for p in test_pairs]}\n",
        "    return task, solutions\n",
        "\n",
        "task_path = \"/content/out_rearc/tasks/1f642eb9.json\"  # pick any file produced by generate_dataset\n",
        "task, sols = rearc_file_to_arc_task(task_path, n_train=3, n_test=1)\n",
        "visualize_task(task, sols)"
      ],
      "metadata": {
        "colab": {
          "base_uri": "https://localhost:8080/",
          "height": 1000
        },
        "id": "X6pW7Ose1Kmm",
        "outputId": "ab776939-ccb0-4e92-c2ac-606d597305a1"
      },
      "execution_count": 22,
      "outputs": [
        {
          "output_type": "display_data",
          "data": {
            "text/plain": [
              "<Figure size 750x350 with 2 Axes>"
            ],
            "image/png": "[encoded data removed]"
          },
          "metadata": {}
        },
        {
          "output_type": "display_data",
          "data": {
            "text/plain": [
              "<Figure size 750x350 with 2 Axes>"
            ],
            "image/png": "[encoded data removed]"
          },
          "metadata": {}
        },
        {
          "output_type": "display_data",
          "data": {
            "text/plain": [
              "<Figure size 750x350 with 2 Axes>"
            ],
            "image/png": "[encoded data removed]"
          },
          "metadata": {}
        },
        {
          "output_type": "display_data",
          "data": {
            "text/plain": [
              "<Figure size 750x350 with 2 Axes>"
            ],
            "image/png": "[encoded data removed]"
          },
          "metadata": {}
        }
      ]
    },
    {
      "cell_type": "code",
      "source": [],
      "metadata": {
        "id": "WD6bOkh51P-w"
      },
      "execution_count": null,
      "outputs": []
    }
  ]
}